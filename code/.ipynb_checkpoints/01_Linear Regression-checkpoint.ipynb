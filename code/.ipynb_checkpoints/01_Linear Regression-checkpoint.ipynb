{
 "cells": [
  {
   "cell_type": "markdown",
   "metadata": {},
   "source": [
    "# Simple Linear Regression"
   ]
  },
  {
   "cell_type": "code",
   "execution_count": 24,
   "metadata": {
    "collapsed": true
   },
   "outputs": [],
   "source": [
    "# Import Libraries\n",
    "import numpy as np\n",
    "import pandas as pd\n",
    "import statsmodels.formula.api as sm\n",
    "from sklearn import datasets \n",
    "import matplotlib.pyplot as plt"
   ]
  },
  {
   "cell_type": "code",
   "execution_count": 32,
   "metadata": {
    "scrolled": false
   },
   "outputs": [
    {
     "data": {
      "text/plain": [
       "Index(['Unnamed: 0', 'crim', 'zn', 'indus', 'chas', 'nox', 'rm', 'age', 'dis',\n",
       "       'rad', 'tax', 'ptratio', 'black', 'lstat', 'medv'],\n",
       "      dtype='object')"
      ]
     },
     "execution_count": 32,
     "metadata": {},
     "output_type": "execute_result"
    }
   ],
   "source": [
    "# Import and Explore Data\n",
    "Boston = pd.read_csv(\"C:/Users/felix.schildorfer/OneDrive - Avanade/Education/ML/Statistical-Learning-in-Python/data/boston.csv\")\n",
    "Boston.columns"
   ]
  },
  {
   "cell_type": "code",
   "execution_count": 33,
   "metadata": {
    "scrolled": false
   },
   "outputs": [
    {
     "data": {
      "image/png": "[encoded data removed]",
      "text/plain": [
       "<matplotlib.figure.Figure at 0x174552c2eb8>"
      ]
     },
     "metadata": {},
     "output_type": "display_data"
    }
   ],
   "source": [
    "Boston.plot(kind='scatter', x='medv', y='lstat', color = \"black\")\n",
    "plt.show()"
   ]
  },
  {
   "cell_type": "code",
   "execution_count": 69,
   "metadata": {},
   "outputs": [
    {
     "data": {
      "text/html": [
       "<table class=\"simpletable\">\n",
       "<caption>OLS Regression Results</caption>\n",
       "<tr>\n",
       "  <th>Dep. Variable:</th>          <td>medv</td>       <th>  R-squared:         </th> <td>   0.544</td>\n",
       "</tr>\n",
       "<tr>\n",
       "  <th>Model:</th>                   <td>OLS</td>       <th>  Adj. R-squared:    </th> <td>   0.543</td>\n",
       "</tr>\n",
       "<tr>\n",
       "  <th>Method:</th>             <td>Least Squares</td>  <th>  F-statistic:       </th> <td>   601.6</td>\n",
       "</tr>\n",
       "<tr>\n",
       "  <th>Date:</th>             <td>Thu, 08 Feb 2018</td> <th>  Prob (F-statistic):</th> <td>5.08e-88</td>\n",
       "</tr>\n",
       "<tr>\n",
       "  <th>Time:</th>                 <td>12:08:47</td>     <th>  Log-Likelihood:    </th> <td> -1641.5</td>\n",
       "</tr>\n",
       "<tr>\n",
       "  <th>No. Observations:</th>      <td>   506</td>      <th>  AIC:               </th> <td>   3287.</td>\n",
       "</tr>\n",
       "<tr>\n",
       "  <th>Df Residuals:</th>          <td>   504</td>      <th>  BIC:               </th> <td>   3295.</td>\n",
       "</tr>\n",
       "<tr>\n",
       "  <th>Df Model:</th>              <td>     1</td>      <th>                     </th>     <td> </td>   \n",
       "</tr>\n",
       "<tr>\n",
       "  <th>Covariance Type:</th>      <td>nonrobust</td>    <th>                     </th>     <td> </td>   \n",
       "</tr>\n",
       "</table>\n",
       "<table class=\"simpletable\">\n",
       "<tr>\n",
       "      <td></td>         <th>coef</th>     <th>std err</th>      <th>t</th>      <th>P>|t|</th>  <th>[0.025</th>    <th>0.975]</th>  \n",
       "</tr>\n",
       "<tr>\n",
       "  <th>Intercept</th> <td>   34.5538</td> <td>    0.563</td> <td>   61.415</td> <td> 0.000</td> <td>   33.448</td> <td>   35.659</td>\n",
       "</tr>\n",
       "<tr>\n",
       "  <th>lstat</th>     <td>   -0.9500</td> <td>    0.039</td> <td>  -24.528</td> <td> 0.000</td> <td>   -1.026</td> <td>   -0.874</td>\n",
       "</tr>\n",
       "</table>\n",
       "<table class=\"simpletable\">\n",
       "<tr>\n",
       "  <th>Omnibus:</th>       <td>137.043</td> <th>  Durbin-Watson:     </th> <td>   0.892</td>\n",
       "</tr>\n",
       "<tr>\n",
       "  <th>Prob(Omnibus):</th> <td> 0.000</td>  <th>  Jarque-Bera (JB):  </th> <td> 291.373</td>\n",
       "</tr>\n",
       "<tr>\n",
       "  <th>Skew:</th>          <td> 1.453</td>  <th>  Prob(JB):          </th> <td>5.36e-64</td>\n",
       "</tr>\n",
       "<tr>\n",
       "  <th>Kurtosis:</th>      <td> 5.319</td>  <th>  Cond. No.          </th> <td>    29.7</td>\n",
       "</tr>\n",
       "</table>"
      ],
      "text/plain": [
       "<class 'statsmodels.iolib.summary.Summary'>\n",
       "\"\"\"\n",
       "                            OLS Regression Results                            \n",
       "==============================================================================\n",
       "Dep. Variable:                   medv   R-squared:                       0.544\n",
       "Model:                            OLS   Adj. R-squared:                  0.543\n",
       "Method:                 Least Squares   F-statistic:                     601.6\n",
       "Date:                Thu, 08 Feb 2018   Prob (F-statistic):           5.08e-88\n",
       "Time:                        12:08:47   Log-Likelihood:                -1641.5\n",
       "No. Observations:                 506   AIC:                             3287.\n",
       "Df Residuals:                     504   BIC:                             3295.\n",
       "Df Model:                           1                                         \n",
       "Covariance Type:            nonrobust                                         \n",
       "==============================================================================\n",
       "                 coef    std err          t      P>|t|      [0.025      0.975]\n",
       "------------------------------------------------------------------------------\n",
       "Intercept     34.5538      0.563     61.415      0.000      33.448      35.659\n",
       "lstat         -0.9500      0.039    -24.528      0.000      -1.026      -0.874\n",
       "==============================================================================\n",
       "Omnibus:                      137.043   Durbin-Watson:                   0.892\n",
       "Prob(Omnibus):                  0.000   Jarque-Bera (JB):              291.373\n",
       "Skew:                           1.453   Prob(JB):                     5.36e-64\n",
       "Kurtosis:                       5.319   Cond. No.                         29.7\n",
       "==============================================================================\n",
       "\n",
       "Warnings:\n",
       "[1] Standard Errors assume that the covariance matrix of the errors is correctly specified.\n",
       "\"\"\""
      ]
     },
     "execution_count": 69,
     "metadata": {},
     "output_type": "execute_result"
    }
   ],
   "source": [
    "# Run Linear Regression\n",
    "# create a fitted model in one line\n",
    "fit_1 = sm.ols(formula='medv ~ lstat', data= Boston).fit()\n",
    "\n",
    "# Show Summary\n",
    "fit_1.summary()"
   ]
  },
  {
   "cell_type": "code",
   "execution_count": 67,
   "metadata": {
    "scrolled": false
   },
   "outputs": [
    {
     "data": {
      "image/png": "[encoded data removed]",
      "text/plain": [
       "<matplotlib.figure.Figure at 0x17455e055f8>"
      ]
     },
     "metadata": {},
     "output_type": "display_data"
    }
   ],
   "source": [
    "# Plot Line\n",
    "Boston.plot(kind='scatter', x='medv', y='lstat', color = \"black\")\n",
    "plt.plot(Boston.lstat, fit_1.fittedvalues, 'r')\n",
    "plt.show()"
   ]
  },
  {
   "cell_type": "code",
   "execution_count": 57,
   "metadata": {
    "scrolled": true
   },
   "outputs": [
    {
     "data": {
      "text/html": [
       "<div>\n",
       "<style>\n",
       "    .dataframe thead tr:only-child th {\n",
       "        text-align: right;\n",
       "    }\n",
       "\n",
       "    .dataframe thead th {\n",
       "        text-align: left;\n",
       "    }\n",
       "\n",
       "    .dataframe tbody tr th {\n",
       "        vertical-align: top;\n",
       "    }\n",
       "</style>\n",
       "<table border=\"1\" class=\"dataframe\">\n",
       "  <thead>\n",
       "    <tr style=\"text-align: right;\">\n",
       "      <th></th>\n",
       "      <th>0</th>\n",
       "      <th>1</th>\n",
       "    </tr>\n",
       "  </thead>\n",
       "  <tbody>\n",
       "    <tr>\n",
       "      <th>Intercept</th>\n",
       "      <td>33.448457</td>\n",
       "      <td>35.659225</td>\n",
       "    </tr>\n",
       "    <tr>\n",
       "      <th>lstat</th>\n",
       "      <td>-1.026148</td>\n",
       "      <td>-0.873951</td>\n",
       "    </tr>\n",
       "  </tbody>\n",
       "</table>\n",
       "</div>"
      ],
      "text/plain": [
       "                   0          1\n",
       "Intercept  33.448457  35.659225\n",
       "lstat      -1.026148  -0.873951"
      ]
     },
     "execution_count": 57,
     "metadata": {},
     "output_type": "execute_result"
    }
   ],
   "source": [
    "# Check Confidence Interval\n",
    "fit_1.conf_int()"
   ]
  },
  {
   "cell_type": "code",
   "execution_count": 58,
   "metadata": {
    "scrolled": true
   },
   "outputs": [
    {
     "data": {
      "text/html": [
       "<table class=\"simpletable\">\n",
       "<caption>OLS Regression Results</caption>\n",
       "<tr>\n",
       "  <th>Dep. Variable:</th>          <td>medv</td>       <th>  R-squared:         </th> <td>   0.551</td>\n",
       "</tr>\n",
       "<tr>\n",
       "  <th>Model:</th>                   <td>OLS</td>       <th>  Adj. R-squared:    </th> <td>   0.549</td>\n",
       "</tr>\n",
       "<tr>\n",
       "  <th>Method:</th>             <td>Least Squares</td>  <th>  F-statistic:       </th> <td>   309.0</td>\n",
       "</tr>\n",
       "<tr>\n",
       "  <th>Date:</th>             <td>Thu, 08 Feb 2018</td> <th>  Prob (F-statistic):</th> <td>2.98e-88</td>\n",
       "</tr>\n",
       "<tr>\n",
       "  <th>Time:</th>                 <td>10:55:13</td>     <th>  Log-Likelihood:    </th> <td> -1637.5</td>\n",
       "</tr>\n",
       "<tr>\n",
       "  <th>No. Observations:</th>      <td>   506</td>      <th>  AIC:               </th> <td>   3281.</td>\n",
       "</tr>\n",
       "<tr>\n",
       "  <th>Df Residuals:</th>          <td>   503</td>      <th>  BIC:               </th> <td>   3294.</td>\n",
       "</tr>\n",
       "<tr>\n",
       "  <th>Df Model:</th>              <td>     2</td>      <th>                     </th>     <td> </td>   \n",
       "</tr>\n",
       "<tr>\n",
       "  <th>Covariance Type:</th>      <td>nonrobust</td>    <th>                     </th>     <td> </td>   \n",
       "</tr>\n",
       "</table>\n",
       "<table class=\"simpletable\">\n",
       "<tr>\n",
       "      <td></td>         <th>coef</th>     <th>std err</th>      <th>t</th>      <th>P>|t|</th>  <th>[0.025</th>    <th>0.975]</th>  \n",
       "</tr>\n",
       "<tr>\n",
       "  <th>Intercept</th> <td>   33.2228</td> <td>    0.731</td> <td>   45.458</td> <td> 0.000</td> <td>   31.787</td> <td>   34.659</td>\n",
       "</tr>\n",
       "<tr>\n",
       "  <th>lstat</th>     <td>   -1.0321</td> <td>    0.048</td> <td>  -21.416</td> <td> 0.000</td> <td>   -1.127</td> <td>   -0.937</td>\n",
       "</tr>\n",
       "<tr>\n",
       "  <th>age</th>       <td>    0.0345</td> <td>    0.012</td> <td>    2.826</td> <td> 0.005</td> <td>    0.011</td> <td>    0.059</td>\n",
       "</tr>\n",
       "</table>\n",
       "<table class=\"simpletable\">\n",
       "<tr>\n",
       "  <th>Omnibus:</th>       <td>124.288</td> <th>  Durbin-Watson:     </th> <td>   0.945</td>\n",
       "</tr>\n",
       "<tr>\n",
       "  <th>Prob(Omnibus):</th> <td> 0.000</td>  <th>  Jarque-Bera (JB):  </th> <td> 244.026</td>\n",
       "</tr>\n",
       "<tr>\n",
       "  <th>Skew:</th>          <td> 1.362</td>  <th>  Prob(JB):          </th> <td>1.02e-53</td>\n",
       "</tr>\n",
       "<tr>\n",
       "  <th>Kurtosis:</th>      <td> 5.038</td>  <th>  Cond. No.          </th> <td>    201.</td>\n",
       "</tr>\n",
       "</table>"
      ],
      "text/plain": [
       "<class 'statsmodels.iolib.summary.Summary'>\n",
       "\"\"\"\n",
       "                            OLS Regression Results                            \n",
       "==============================================================================\n",
       "Dep. Variable:                   medv   R-squared:                       0.551\n",
       "Model:                            OLS   Adj. R-squared:                  0.549\n",
       "Method:                 Least Squares   F-statistic:                     309.0\n",
       "Date:                Thu, 08 Feb 2018   Prob (F-statistic):           2.98e-88\n",
       "Time:                        10:55:13   Log-Likelihood:                -1637.5\n",
       "No. Observations:                 506   AIC:                             3281.\n",
       "Df Residuals:                     503   BIC:                             3294.\n",
       "Df Model:                           2                                         \n",
       "Covariance Type:            nonrobust                                         \n",
       "==============================================================================\n",
       "                 coef    std err          t      P>|t|      [0.025      0.975]\n",
       "------------------------------------------------------------------------------\n",
       "Intercept     33.2228      0.731     45.458      0.000      31.787      34.659\n",
       "lstat         -1.0321      0.048    -21.416      0.000      -1.127      -0.937\n",
       "age            0.0345      0.012      2.826      0.005       0.011       0.059\n",
       "==============================================================================\n",
       "Omnibus:                      124.288   Durbin-Watson:                   0.945\n",
       "Prob(Omnibus):                  0.000   Jarque-Bera (JB):              244.026\n",
       "Skew:                           1.362   Prob(JB):                     1.02e-53\n",
       "Kurtosis:                       5.038   Cond. No.                         201.\n",
       "==============================================================================\n",
       "\n",
       "Warnings:\n",
       "[1] Standard Errors assume that the covariance matrix of the errors is correctly specified.\n",
       "\"\"\""
      ]
     },
     "execution_count": 58,
     "metadata": {},
     "output_type": "execute_result"
    }
   ],
   "source": [
    "# Add variables\n",
    "fit_2 = sm.ols(formula='medv ~ lstat + age', data= Boston).fit()\n",
    "fit_2.summary()"
   ]
  },
  {
   "cell_type": "code",
   "execution_count": 64,
   "metadata": {},
   "outputs": [
    {
     "data": {
      "text/html": [
       "<table class=\"simpletable\">\n",
       "<caption>OLS Regression Results</caption>\n",
       "<tr>\n",
       "  <th>Dep. Variable:</th>          <td>medv</td>       <th>  R-squared:         </th>  <td>   1.000</td> \n",
       "</tr>\n",
       "<tr>\n",
       "  <th>Model:</th>                   <td>OLS</td>       <th>  Adj. R-squared:    </th>  <td>   1.000</td> \n",
       "</tr>\n",
       "<tr>\n",
       "  <th>Method:</th>             <td>Least Squares</td>  <th>  F-statistic:       </th>  <td>1.232e+30</td>\n",
       "</tr>\n",
       "<tr>\n",
       "  <th>Date:</th>             <td>Thu, 08 Feb 2018</td> <th>  Prob (F-statistic):</th>   <td>  0.00</td>  \n",
       "</tr>\n",
       "<tr>\n",
       "  <th>Time:</th>                 <td>11:16:58</td>     <th>  Log-Likelihood:    </th>  <td>  14789.</td> \n",
       "</tr>\n",
       "<tr>\n",
       "  <th>No. Observations:</th>      <td>   506</td>      <th>  AIC:               </th> <td>-2.955e+04</td>\n",
       "</tr>\n",
       "<tr>\n",
       "  <th>Df Residuals:</th>          <td>   491</td>      <th>  BIC:               </th> <td>-2.948e+04</td>\n",
       "</tr>\n",
       "<tr>\n",
       "  <th>Df Model:</th>              <td>    14</td>      <th>                     </th>      <td> </td>    \n",
       "</tr>\n",
       "<tr>\n",
       "  <th>Covariance Type:</th>      <td>nonrobust</td>    <th>                     </th>      <td> </td>    \n",
       "</tr>\n",
       "</table>\n",
       "<table class=\"simpletable\">\n",
       "<tr>\n",
       "      <td></td>         <th>coef</th>     <th>std err</th>      <th>t</th>      <th>P>|t|</th>  <th>[0.025</th>    <th>0.975]</th>  \n",
       "</tr>\n",
       "<tr>\n",
       "  <th>Intercept</th> <td>         0</td> <td> 5.62e-14</td> <td>        0</td> <td> 1.000</td> <td> -1.1e-13</td> <td>  1.1e-13</td>\n",
       "</tr>\n",
       "<tr>\n",
       "  <th>crim</th>      <td> -7.72e-16</td> <td> 3.48e-16</td> <td>   -2.215</td> <td> 0.027</td> <td>-1.46e-15</td> <td>-8.73e-17</td>\n",
       "</tr>\n",
       "<tr>\n",
       "  <th>zn</th>        <td>-6.245e-17</td> <td> 1.46e-16</td> <td>   -0.429</td> <td> 0.668</td> <td>-3.49e-16</td> <td> 2.24e-16</td>\n",
       "</tr>\n",
       "<tr>\n",
       "  <th>indus</th>     <td> 1.804e-16</td> <td> 6.45e-16</td> <td>    0.280</td> <td> 0.780</td> <td>-1.09e-15</td> <td> 1.45e-15</td>\n",
       "</tr>\n",
       "<tr>\n",
       "  <th>chas</th>      <td> 8.882e-16</td> <td> 9.13e-15</td> <td>    0.097</td> <td> 0.923</td> <td> -1.7e-14</td> <td> 1.88e-14</td>\n",
       "</tr>\n",
       "<tr>\n",
       "  <th>nox</th>       <td>-1.399e-14</td> <td> 4.09e-14</td> <td>   -0.342</td> <td> 0.733</td> <td>-9.44e-14</td> <td> 6.64e-14</td>\n",
       "</tr>\n",
       "<tr>\n",
       "  <th>rm</th>        <td>-1.443e-15</td> <td> 4.74e-15</td> <td>   -0.305</td> <td> 0.761</td> <td>-1.08e-14</td> <td> 7.87e-15</td>\n",
       "</tr>\n",
       "<tr>\n",
       "  <th>age</th>       <td> 1.839e-16</td> <td> 1.39e-16</td> <td>    1.327</td> <td> 0.185</td> <td>-8.83e-17</td> <td> 4.56e-16</td>\n",
       "</tr>\n",
       "<tr>\n",
       "  <th>dis</th>       <td> -1.11e-16</td> <td> 2.21e-15</td> <td>   -0.050</td> <td> 0.960</td> <td>-4.44e-15</td> <td> 4.22e-15</td>\n",
       "</tr>\n",
       "<tr>\n",
       "  <th>rad</th>       <td> -1.18e-16</td> <td> 7.11e-16</td> <td>   -0.166</td> <td> 0.868</td> <td>-1.51e-15</td> <td> 1.28e-15</td>\n",
       "</tr>\n",
       "<tr>\n",
       "  <th>tax</th>       <td>-7.242e-17</td> <td> 3.99e-17</td> <td>   -1.817</td> <td> 0.070</td> <td>-1.51e-16</td> <td> 5.91e-18</td>\n",
       "</tr>\n",
       "<tr>\n",
       "  <th>ptratio</th>   <td>-1.943e-16</td> <td> 1.44e-15</td> <td>   -0.135</td> <td> 0.893</td> <td>-3.03e-15</td> <td> 2.64e-15</td>\n",
       "</tr>\n",
       "<tr>\n",
       "  <th>black</th>     <td> 1.405e-16</td> <td> 2.85e-17</td> <td>    4.928</td> <td> 0.000</td> <td> 8.45e-17</td> <td> 1.97e-16</td>\n",
       "</tr>\n",
       "<tr>\n",
       "  <th>lstat</th>     <td>-3.053e-16</td> <td> 5.87e-16</td> <td>   -0.520</td> <td> 0.603</td> <td>-1.46e-15</td> <td> 8.48e-16</td>\n",
       "</tr>\n",
       "<tr>\n",
       "  <th>medv</th>      <td>    1.0000</td> <td> 4.73e-16</td> <td> 2.11e+15</td> <td> 0.000</td> <td>    1.000</td> <td>    1.000</td>\n",
       "</tr>\n",
       "</table>\n",
       "<table class=\"simpletable\">\n",
       "<tr>\n",
       "  <th>Omnibus:</th>       <td>105.334</td> <th>  Durbin-Watson:     </th> <td>   0.118</td>\n",
       "</tr>\n",
       "<tr>\n",
       "  <th>Prob(Omnibus):</th> <td> 0.000</td>  <th>  Jarque-Bera (JB):  </th> <td> 181.880</td>\n",
       "</tr>\n",
       "<tr>\n",
       "  <th>Skew:</th>          <td> 1.235</td>  <th>  Prob(JB):          </th> <td>3.20e-40</td>\n",
       "</tr>\n",
       "<tr>\n",
       "  <th>Kurtosis:</th>      <td> 4.588</td>  <th>  Cond. No.          </th> <td>1.59e+04</td>\n",
       "</tr>\n",
       "</table>"
      ],
      "text/plain": [
       "<class 'statsmodels.iolib.summary.Summary'>\n",
       "\"\"\"\n",
       "                            OLS Regression Results                            \n",
       "==============================================================================\n",
       "Dep. Variable:                   medv   R-squared:                       1.000\n",
       "Model:                            OLS   Adj. R-squared:                  1.000\n",
       "Method:                 Least Squares   F-statistic:                 1.232e+30\n",
       "Date:                Thu, 08 Feb 2018   Prob (F-statistic):               0.00\n",
       "Time:                        11:16:58   Log-Likelihood:                 14789.\n",
       "No. Observations:                 506   AIC:                        -2.955e+04\n",
       "Df Residuals:                     491   BIC:                        -2.948e+04\n",
       "Df Model:                          14                                         \n",
       "Covariance Type:            nonrobust                                         \n",
       "==============================================================================\n",
       "                 coef    std err          t      P>|t|      [0.025      0.975]\n",
       "------------------------------------------------------------------------------\n",
       "Intercept           0   5.62e-14          0      1.000    -1.1e-13     1.1e-13\n",
       "crim        -7.72e-16   3.48e-16     -2.215      0.027   -1.46e-15   -8.73e-17\n",
       "zn         -6.245e-17   1.46e-16     -0.429      0.668   -3.49e-16    2.24e-16\n",
       "indus       1.804e-16   6.45e-16      0.280      0.780   -1.09e-15    1.45e-15\n",
       "chas        8.882e-16   9.13e-15      0.097      0.923    -1.7e-14    1.88e-14\n",
       "nox        -1.399e-14   4.09e-14     -0.342      0.733   -9.44e-14    6.64e-14\n",
       "rm         -1.443e-15   4.74e-15     -0.305      0.761   -1.08e-14    7.87e-15\n",
       "age         1.839e-16   1.39e-16      1.327      0.185   -8.83e-17    4.56e-16\n",
       "dis         -1.11e-16   2.21e-15     -0.050      0.960   -4.44e-15    4.22e-15\n",
       "rad         -1.18e-16   7.11e-16     -0.166      0.868   -1.51e-15    1.28e-15\n",
       "tax        -7.242e-17   3.99e-17     -1.817      0.070   -1.51e-16    5.91e-18\n",
       "ptratio    -1.943e-16   1.44e-15     -0.135      0.893   -3.03e-15    2.64e-15\n",
       "black       1.405e-16   2.85e-17      4.928      0.000    8.45e-17    1.97e-16\n",
       "lstat      -3.053e-16   5.87e-16     -0.520      0.603   -1.46e-15    8.48e-16\n",
       "medv           1.0000   4.73e-16   2.11e+15      0.000       1.000       1.000\n",
       "==============================================================================\n",
       "Omnibus:                      105.334   Durbin-Watson:                   0.118\n",
       "Prob(Omnibus):                  0.000   Jarque-Bera (JB):              181.880\n",
       "Skew:                           1.235   Prob(JB):                     3.20e-40\n",
       "Kurtosis:                       4.588   Cond. No.                     1.59e+04\n",
       "==============================================================================\n",
       "\n",
       "Warnings:\n",
       "[1] Standard Errors assume that the covariance matrix of the errors is correctly specified.\n",
       "[2] The condition number is large, 1.59e+04. This might indicate that there are\n",
       "strong multicollinearity or other numerical problems.\n",
       "\"\"\""
      ]
     },
     "execution_count": 64,
     "metadata": {},
     "output_type": "execute_result"
    }
   ],
   "source": [
    "# Use all Variables\n",
    "fit_3 = sm.ols(formula='medv ~ crim + zn + indus + chas + nox + rm + age + dis + rad + tax + ptratio + black + lstat + medv',\n",
    "               data= Boston).fit()\n",
    "fit_3.summary()"
   ]
  },
  {
   "cell_type": "code",
   "execution_count": 65,
   "metadata": {},
   "outputs": [
    {
     "data": {
      "text/html": [
       "<table class=\"simpletable\">\n",
       "<caption>OLS Regression Results</caption>\n",
       "<tr>\n",
       "  <th>Dep. Variable:</th>          <td>medv</td>       <th>  R-squared:         </th>  <td>   1.000</td> \n",
       "</tr>\n",
       "<tr>\n",
       "  <th>Model:</th>                   <td>OLS</td>       <th>  Adj. R-squared:    </th>  <td>   1.000</td> \n",
       "</tr>\n",
       "<tr>\n",
       "  <th>Method:</th>             <td>Least Squares</td>  <th>  F-statistic:       </th>  <td>1.948e+30</td>\n",
       "</tr>\n",
       "<tr>\n",
       "  <th>Date:</th>             <td>Thu, 08 Feb 2018</td> <th>  Prob (F-statistic):</th>   <td>  0.00</td>  \n",
       "</tr>\n",
       "<tr>\n",
       "  <th>Time:</th>                 <td>11:17:42</td>     <th>  Log-Likelihood:    </th>  <td>  14865.</td> \n",
       "</tr>\n",
       "<tr>\n",
       "  <th>No. Observations:</th>      <td>   506</td>      <th>  AIC:               </th> <td>-2.970e+04</td>\n",
       "</tr>\n",
       "<tr>\n",
       "  <th>Df Residuals:</th>          <td>   493</td>      <th>  BIC:               </th> <td>-2.965e+04</td>\n",
       "</tr>\n",
       "<tr>\n",
       "  <th>Df Model:</th>              <td>    12</td>      <th>                     </th>      <td> </td>    \n",
       "</tr>\n",
       "<tr>\n",
       "  <th>Covariance Type:</th>      <td>nonrobust</td>    <th>                     </th>      <td> </td>    \n",
       "</tr>\n",
       "</table>\n",
       "<table class=\"simpletable\">\n",
       "<tr>\n",
       "      <td></td>         <th>coef</th>     <th>std err</th>      <th>t</th>      <th>P>|t|</th>  <th>[0.025</th>    <th>0.975]</th>  \n",
       "</tr>\n",
       "<tr>\n",
       "  <th>Intercept</th> <td>-1.954e-14</td> <td> 4.81e-14</td> <td>   -0.407</td> <td> 0.685</td> <td>-1.14e-13</td> <td> 7.49e-14</td>\n",
       "</tr>\n",
       "<tr>\n",
       "  <th>crim</th>      <td> 5.508e-16</td> <td> 2.99e-16</td> <td>    1.841</td> <td> 0.066</td> <td>-3.69e-17</td> <td> 1.14e-15</td>\n",
       "</tr>\n",
       "<tr>\n",
       "  <th>zn</th>        <td>         0</td> <td> 1.23e-16</td> <td>        0</td> <td> 1.000</td> <td>-2.43e-16</td> <td> 2.43e-16</td>\n",
       "</tr>\n",
       "<tr>\n",
       "  <th>chas</th>      <td>-3.331e-15</td> <td> 7.79e-15</td> <td>   -0.428</td> <td> 0.669</td> <td>-1.86e-14</td> <td>  1.2e-14</td>\n",
       "</tr>\n",
       "<tr>\n",
       "  <th>nox</th>       <td> 1.776e-15</td> <td> 3.27e-14</td> <td>    0.054</td> <td> 0.957</td> <td>-6.24e-14</td> <td>  6.6e-14</td>\n",
       "</tr>\n",
       "<tr>\n",
       "  <th>rm</th>        <td>-2.998e-15</td> <td> 3.98e-15</td> <td>   -0.753</td> <td> 0.452</td> <td>-1.08e-14</td> <td> 4.82e-15</td>\n",
       "</tr>\n",
       "<tr>\n",
       "  <th>dis</th>       <td> 4.996e-16</td> <td> 1.78e-15</td> <td>    0.280</td> <td> 0.779</td> <td>   -3e-15</td> <td>    4e-15</td>\n",
       "</tr>\n",
       "<tr>\n",
       "  <th>rad</th>       <td> 4.129e-16</td> <td> 5.85e-16</td> <td>    0.706</td> <td> 0.481</td> <td>-7.37e-16</td> <td> 1.56e-15</td>\n",
       "</tr>\n",
       "<tr>\n",
       "  <th>tax</th>       <td> 1.724e-16</td> <td> 3.08e-17</td> <td>    5.595</td> <td> 0.000</td> <td> 1.12e-16</td> <td> 2.33e-16</td>\n",
       "</tr>\n",
       "<tr>\n",
       "  <th>ptratio</th>   <td> 3.747e-16</td> <td> 1.23e-15</td> <td>    0.305</td> <td> 0.760</td> <td>-2.04e-15</td> <td> 2.78e-15</td>\n",
       "</tr>\n",
       "<tr>\n",
       "  <th>black</th>     <td>-9.801e-17</td> <td> 2.44e-17</td> <td>   -4.012</td> <td> 0.000</td> <td>-1.46e-16</td> <td>   -5e-17</td>\n",
       "</tr>\n",
       "<tr>\n",
       "  <th>lstat</th>     <td>-8.327e-17</td> <td> 4.78e-16</td> <td>   -0.174</td> <td> 0.862</td> <td>-1.02e-15</td> <td> 8.55e-16</td>\n",
       "</tr>\n",
       "<tr>\n",
       "  <th>medv</th>      <td>    1.0000</td> <td> 4.06e-16</td> <td> 2.46e+15</td> <td> 0.000</td> <td>    1.000</td> <td>    1.000</td>\n",
       "</tr>\n",
       "</table>\n",
       "<table class=\"simpletable\">\n",
       "<tr>\n",
       "  <th>Omnibus:</th>       <td>62.170</td> <th>  Durbin-Watson:     </th> <td>   0.077</td>\n",
       "</tr>\n",
       "<tr>\n",
       "  <th>Prob(Omnibus):</th> <td> 0.000</td> <th>  Jarque-Bera (JB):  </th> <td>  76.489</td>\n",
       "</tr>\n",
       "<tr>\n",
       "  <th>Skew:</th>          <td>-0.924</td> <th>  Prob(JB):          </th> <td>2.46e-17</td>\n",
       "</tr>\n",
       "<tr>\n",
       "  <th>Kurtosis:</th>      <td> 2.538</td> <th>  Cond. No.          </th> <td>1.54e+04</td>\n",
       "</tr>\n",
       "</table>"
      ],
      "text/plain": [
       "<class 'statsmodels.iolib.summary.Summary'>\n",
       "\"\"\"\n",
       "                            OLS Regression Results                            \n",
       "==============================================================================\n",
       "Dep. Variable:                   medv   R-squared:                       1.000\n",
       "Model:                            OLS   Adj. R-squared:                  1.000\n",
       "Method:                 Least Squares   F-statistic:                 1.948e+30\n",
       "Date:                Thu, 08 Feb 2018   Prob (F-statistic):               0.00\n",
       "Time:                        11:17:42   Log-Likelihood:                 14865.\n",
       "No. Observations:                 506   AIC:                        -2.970e+04\n",
       "Df Residuals:                     493   BIC:                        -2.965e+04\n",
       "Df Model:                          12                                         \n",
       "Covariance Type:            nonrobust                                         \n",
       "==============================================================================\n",
       "                 coef    std err          t      P>|t|      [0.025      0.975]\n",
       "------------------------------------------------------------------------------\n",
       "Intercept  -1.954e-14   4.81e-14     -0.407      0.685   -1.14e-13    7.49e-14\n",
       "crim        5.508e-16   2.99e-16      1.841      0.066   -3.69e-17    1.14e-15\n",
       "zn                  0   1.23e-16          0      1.000   -2.43e-16    2.43e-16\n",
       "chas       -3.331e-15   7.79e-15     -0.428      0.669   -1.86e-14     1.2e-14\n",
       "nox         1.776e-15   3.27e-14      0.054      0.957   -6.24e-14     6.6e-14\n",
       "rm         -2.998e-15   3.98e-15     -0.753      0.452   -1.08e-14    4.82e-15\n",
       "dis         4.996e-16   1.78e-15      0.280      0.779      -3e-15       4e-15\n",
       "rad         4.129e-16   5.85e-16      0.706      0.481   -7.37e-16    1.56e-15\n",
       "tax         1.724e-16   3.08e-17      5.595      0.000    1.12e-16    2.33e-16\n",
       "ptratio     3.747e-16   1.23e-15      0.305      0.760   -2.04e-15    2.78e-15\n",
       "black      -9.801e-17   2.44e-17     -4.012      0.000   -1.46e-16      -5e-17\n",
       "lstat      -8.327e-17   4.78e-16     -0.174      0.862   -1.02e-15    8.55e-16\n",
       "medv           1.0000   4.06e-16   2.46e+15      0.000       1.000       1.000\n",
       "==============================================================================\n",
       "Omnibus:                       62.170   Durbin-Watson:                   0.077\n",
       "Prob(Omnibus):                  0.000   Jarque-Bera (JB):               76.489\n",
       "Skew:                          -0.924   Prob(JB):                     2.46e-17\n",
       "Kurtosis:                       2.538   Cond. No.                     1.54e+04\n",
       "==============================================================================\n",
       "\n",
       "Warnings:\n",
       "[1] Standard Errors assume that the covariance matrix of the errors is correctly specified.\n",
       "[2] The condition number is large, 1.54e+04. This might indicate that there are\n",
       "strong multicollinearity or other numerical problems.\n",
       "\"\"\""
      ]
     },
     "execution_count": 65,
     "metadata": {},
     "output_type": "execute_result"
    }
   ],
   "source": [
    "# Use all Variables\n",
    "fit_4 = sm.ols(formula='medv ~ crim + zn + chas + nox + rm + dis + rad + tax + ptratio + black + lstat + medv',\n",
    "               data= Boston).fit()\n",
    "fit_4.summary()"
   ]
  },
  {
   "cell_type": "code",
   "execution_count": 70,
   "metadata": {
    "collapsed": true
   },
   "outputs": [],
   "source": [
    "# Non-Linear Regression\n"
   ]
  },
  {
   "cell_type": "code",
   "execution_count": 77,
   "metadata": {
    "collapsed": true
   },
   "outputs": [],
   "source": [
    "# Define function for faster deployment\n",
    "\n",
    "def regplot():\n",
    "  fit = sm.ols(formula='medv ~ lstat + age', data= Boston).fit()\n",
    "  Boston.plot(kind='scatter', x= 'medv', y= 'lstat', color = \"black\")\n",
    "  plt.plot(Boston.lstat, fit.fittedvalues, 'r')\n",
    "  plt.show()\n"
   ]
  },
  {
   "cell_type": "code",
   "execution_count": 81,
   "metadata": {},
   "outputs": [
    {
     "data": {
      "image/png": "[encoded data removed]",
      "text/plain": [
       "<matplotlib.figure.Figure at 0x1745509c8d0>"
      ]
     },
     "metadata": {},
     "output_type": "display_data"
    }
   ],
   "source": [
    "# Try out new function\n",
    "regplot()"
   ]
  },
  {
   "cell_type": "code",
   "execution_count": 1,
   "metadata": {
    "collapsed": true
   },
   "outputs": [],
   "source": [
    "# Better function\n",
    "def basic_linear_regression(x, y):\n",
    "    # Basic computations to save a little time.\n",
    "    length = len(x)\n",
    "    sum_x = sum(x)\n",
    "    sum_y = sum(y)\n",
    "\n",
    "    # Σx^2, and Σxy respectively.\n",
    "    sum_x_squared = sum(map(lambda a: a * a, x))\n",
    "    sum_of_products = sum([x[i] * y[i] for i in range(length)])\n",
    "\n",
    "    # Magic formulae!\n",
    "    a = (sum_of_products - (sum_x * sum_y) / length) / (sum_x_squared - ((sum_x ** 2) / length))\n",
    "    b = (sum_y - a * sum_x) / length\n",
    "    return a, b"
   ]
  },
  {
   "cell_type": "code",
   "execution_count": null,
   "metadata": {
    "collapsed": true
   },
   "outputs": [],
   "source": []
  }
 ],
 "metadata": {
  "kernelspec": {
   "display_name": "Python 3",
   "language": "python",
   "name": "python3"
  },
  "language_info": {
   "codemirror_mode": {
    "name": "ipython",
    "version": 3
   },
   "file_extension": ".py",
   "mimetype": "text/x-python",
   "name": "python",
   "nbconvert_exporter": "python",
   "pygments_lexer": "ipython3",
   "version": "3.6.3"
  }
 },
 "nbformat": 4,
 "nbformat_minor": 2
}
